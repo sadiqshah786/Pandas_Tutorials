{
 "cells": [
  {
   "cell_type": "code",
   "execution_count": 2,
   "metadata": {},
   "outputs": [],
   "source": [
    "import pandas as pd\n",
    "import numpy as np"
   ]
  },
  {
   "cell_type": "markdown",
   "metadata": {},
   "source": [
    "# Series Data structure\n",
    "-Series perfome the hetrogenous mixtre...."
   ]
  },
  {
   "cell_type": "code",
   "execution_count": 3,
   "metadata": {},
   "outputs": [
    {
     "name": "stdout",
     "output_type": "stream",
     "text": [
      "0    0\n",
      "1    1\n",
      "2    2\n",
      "3    3\n",
      "4    4\n",
      "5    5\n",
      "6    6\n",
      "7    7\n",
      "8    8\n",
      "9    9\n",
      "dtype: int32\n",
      "<class 'pandas.core.series.Series'>\n"
     ]
    }
   ],
   "source": [
    "array1=np.arange(10)\n",
    "series=pd.Series(array1)\n",
    "print(series)\n",
    "print(type(series))"
   ]
  },
  {
   "cell_type": "code",
   "execution_count": 4,
   "metadata": {},
   "outputs": [
    {
     "name": "stdout",
     "output_type": "stream",
     "text": [
      "0        2\n",
      "1       -5\n",
      "2      3.5\n",
      "3    sadiq\n",
      "dtype: object\n"
     ]
    }
   ],
   "source": [
    "series2=[2,-5,3.5,\"sadiq\"]\n",
    "series=pd.Series(series2)\n",
    "print(series)"
   ]
  },
  {
   "cell_type": "markdown",
   "metadata": {},
   "source": [
    "# Empty_series\n"
   ]
  },
  {
   "cell_type": "code",
   "execution_count": 5,
   "metadata": {},
   "outputs": [
    {
     "name": "stdout",
     "output_type": "stream",
     "text": [
      "Series([], dtype: float64)\n"
     ]
    }
   ],
   "source": [
    "empty_series=pd.Series()\n",
    "print(empty_series)"
   ]
  },
  {
   "cell_type": "markdown",
   "metadata": {},
   "source": [
    "# Short technique to create an array"
   ]
  },
  {
   "cell_type": "code",
   "execution_count": 6,
   "metadata": {},
   "outputs": [
    {
     "name": "stdout",
     "output_type": "stream",
     "text": [
      "0    2\n",
      "1    3\n",
      "2    5\n",
      "3    6\n",
      "4    7\n",
      "dtype: int64\n",
      "6\n"
     ]
    }
   ],
   "source": [
    "s=pd.Series([2,3,5,6,7])\n",
    "print(s)\n",
    "print(s[3])"
   ]
  },
  {
   "cell_type": "markdown",
   "metadata": {},
   "source": [
    "# Series with index"
   ]
  },
  {
   "cell_type": "code",
   "execution_count": 7,
   "metadata": {},
   "outputs": [
    {
     "name": "stdout",
     "output_type": "stream",
     "text": [
      "a     1\n",
      "b     2\n",
      "c     4\n",
      "d     6\n",
      "e     8\n",
      "f    42\n",
      "g     3\n",
      "dtype: int64\n"
     ]
    }
   ],
   "source": [
    "seriess=pd.Series([1,2,4,6,8,42,3],index=['a','b','c','d','e','f','g'])\n",
    "print(seriess)\n"
   ]
  },
  {
   "cell_type": "code",
   "execution_count": 8,
   "metadata": {},
   "outputs": [
    {
     "name": "stdout",
     "output_type": "stream",
     "text": [
      "2     1\n",
      "3     2\n",
      "4     4\n",
      "5     6\n",
      "6     8\n",
      "7    42\n",
      "1     3\n",
      "dtype: int64\n"
     ]
    }
   ],
   "source": [
    "seriess=pd.Series([1,2,4,6,8,42,3],index=[2,3,4,5,6,7,1])\n",
    "print(seriess)\n"
   ]
  },
  {
   "cell_type": "markdown",
   "metadata": {},
   "source": [
    "# Create series by dictionary"
   ]
  },
  {
   "cell_type": "code",
   "execution_count": 23,
   "metadata": {},
   "outputs": [
    {
     "name": "stdout",
     "output_type": "stream",
     "text": [
      "name     sadiq shah\n",
      "Class       Bs-CS-4\n",
      "dtype: object\n",
      "\n",
      "\n",
      "name sadiq shah\n",
      "Class Bs-CS-4\n"
     ]
    }
   ],
   "source": [
    "seires_d=pd.Series({\"name\" : \"sadiq shah\", \"Class\":\"Bs-CS-4\"})\n",
    "print(seires_d)\n",
    "print(\"\\n\")\n",
    "\n",
    "for i,j in seires_d.items():\n",
    "    print(i,j)"
   ]
  },
  {
   "cell_type": "markdown",
   "metadata": {},
   "source": [
    "# Single scalar values"
   ]
  },
  {
   "cell_type": "code",
   "execution_count": 28,
   "metadata": {},
   "outputs": [
    {
     "name": "stdout",
     "output_type": "stream",
     "text": [
      "4    20\n",
      "5    20\n",
      "6    20\n",
      "6    20\n",
      "7    20\n",
      "8    20\n",
      "dtype: int64\n"
     ]
    },
    {
     "data": {
      "text/plain": [
       "pandas.core.series.Series"
      ]
     },
     "execution_count": 28,
     "metadata": {},
     "output_type": "execute_result"
    }
   ],
   "source": [
    "scalar_s=pd.Series(20,index=[4,5,6,6,7,8])\n",
    "print(scalar_s)\n",
    "type(scalar_s)"
   ]
  },
  {
   "cell_type": "markdown",
   "metadata": {},
   "source": [
    "# Slicing with series"
   ]
  },
  {
   "cell_type": "code",
   "execution_count": 29,
   "metadata": {},
   "outputs": [
    {
     "name": "stdout",
     "output_type": "stream",
     "text": [
      "4    20\n",
      "5    20\n",
      "6    20\n",
      "6    20\n",
      "7    20\n",
      "8    20\n",
      "dtype: int64\n"
     ]
    }
   ],
   "source": [
    "scalar_s=pd.Series(20,index=[4,5,6,6,7,8])\n",
    "print(scalar_s)"
   ]
  },
  {
   "cell_type": "code",
   "execution_count": 30,
   "metadata": {
    "scrolled": true
   },
   "outputs": [
    {
     "data": {
      "text/plain": [
       "6    20\n",
       "7    20\n",
       "8    20\n",
       "dtype: int64"
      ]
     },
     "execution_count": 30,
     "metadata": {},
     "output_type": "execute_result"
    }
   ],
   "source": [
    "scalar_s[3:]"
   ]
  },
  {
   "cell_type": "code",
   "execution_count": 38,
   "metadata": {},
   "outputs": [
    {
     "name": "stdout",
     "output_type": "stream",
     "text": [
      "0    0\n",
      "1    1\n",
      "2    2\n",
      "3    3\n",
      "4    4\n",
      "5    5\n",
      "6    6\n",
      "7    7\n",
      "8    8\n",
      "9    9\n",
      "dtype: int32\n"
     ]
    }
   ],
   "source": [
    "array=np.arange(10)\n",
    "series=pd.Series(array)\n",
    "print(series)"
   ]
  },
  {
   "cell_type": "code",
   "execution_count": 41,
   "metadata": {},
   "outputs": [
    {
     "data": {
      "text/plain": [
       "4    4\n",
       "5    5\n",
       "6    6\n",
       "7    7\n",
       "8    8\n",
       "9    9\n",
       "dtype: int32"
      ]
     },
     "execution_count": 41,
     "metadata": {},
     "output_type": "execute_result"
    }
   ],
   "source": [
    "series[4:]"
   ]
  },
  {
   "cell_type": "markdown",
   "metadata": {},
   "source": [
    "# Max and min values in series"
   ]
  },
  {
   "cell_type": "code",
   "execution_count": 47,
   "metadata": {},
   "outputs": [
    {
     "name": "stdout",
     "output_type": "stream",
     "text": [
      "9\n",
      "<class 'int'>\n"
     ]
    }
   ],
   "source": [
    "max_value=max(series)\n",
    "print(max_value)\n",
    "print(type(max_value))\n"
   ]
  },
  {
   "cell_type": "code",
   "execution_count": 48,
   "metadata": {},
   "outputs": [
    {
     "name": "stdout",
     "output_type": "stream",
     "text": [
      "0\n",
      "<class 'int'>\n"
     ]
    }
   ],
   "source": [
    "min_value=min(series)\n",
    "print(min_value)\n",
    "print(type(min_value))\n"
   ]
  },
  {
   "cell_type": "code",
   "execution_count": 52,
   "metadata": {},
   "outputs": [
    {
     "name": "stdout",
     "output_type": "stream",
     "text": [
      "9\n",
      "<class 'int'>\n"
     ]
    }
   ],
   "source": [
    "max_value=max(series)\n",
    "print(max_value)\n",
    "print(type(max_value))\n"
   ]
  },
  {
   "cell_type": "markdown",
   "metadata": {},
   "source": [
    "# Conditional operators"
   ]
  },
  {
   "cell_type": "code",
   "execution_count": 55,
   "metadata": {},
   "outputs": [
    {
     "data": {
      "text/plain": [
       "3    3\n",
       "dtype: int32"
      ]
     },
     "execution_count": 55,
     "metadata": {},
     "output_type": "execute_result"
    }
   ],
   "source": [
    "# 1- ==\n",
    "\n",
    "series[series==3]"
   ]
  },
  {
   "cell_type": "code",
   "execution_count": 58,
   "metadata": {},
   "outputs": [
    {
     "data": {
      "text/plain": [
       "3    3\n",
       "4    4\n",
       "5    5\n",
       "6    6\n",
       "7    7\n",
       "8    8\n",
       "9    9\n",
       "dtype: int32"
      ]
     },
     "execution_count": 58,
     "metadata": {},
     "output_type": "execute_result"
    }
   ],
   "source": [
    "# 2- >\n",
    "series[series>=3]"
   ]
  },
  {
   "cell_type": "code",
   "execution_count": 57,
   "metadata": {},
   "outputs": [
    {
     "data": {
      "text/plain": [
       "0    0\n",
       "1    1\n",
       "2    2\n",
       "3    3\n",
       "dtype: int32"
      ]
     },
     "execution_count": 57,
     "metadata": {},
     "output_type": "execute_result"
    }
   ],
   "source": [
    "# 2- <\n",
    "series[series<=3]"
   ]
  },
  {
   "cell_type": "markdown",
   "metadata": {},
   "source": [
    "\n",
    "# mathamatical operator"
   ]
  },
  {
   "cell_type": "code",
   "execution_count": 66,
   "metadata": {},
   "outputs": [
    {
     "name": "stdout",
     "output_type": "stream",
     "text": [
      "0     30\n",
      "1     32\n",
      "2     34\n",
      "3     36\n",
      "4     38\n",
      "5     40\n",
      "6     42\n",
      "7     44\n",
      "8     46\n",
      "9     48\n",
      "10    50\n",
      "dtype: int32\n"
     ]
    }
   ],
   "source": [
    "array1=np.arange(10,21)\n",
    "array2=np.arange(20,31)\n",
    "series1=pd.Series(array1)\n",
    "series2=pd.Series(array2)\n",
    "add_series=series1 + series2\n",
    "print(add_series)"
   ]
  },
  {
   "cell_type": "code",
   "execution_count": 67,
   "metadata": {},
   "outputs": [
    {
     "name": "stdout",
     "output_type": "stream",
     "text": [
      "0    -10\n",
      "1    -10\n",
      "2    -10\n",
      "3    -10\n",
      "4    -10\n",
      "5    -10\n",
      "6    -10\n",
      "7    -10\n",
      "8    -10\n",
      "9    -10\n",
      "10   -10\n",
      "dtype: int32\n"
     ]
    }
   ],
   "source": [
    "array1=np.arange(10,21)\n",
    "array2=np.arange(20,31)\n",
    "series1=pd.Series(array1)\n",
    "series2=pd.Series(array2)\n",
    "sub_series=series1 - series2\n",
    "print(sub_series)"
   ]
  },
  {
   "cell_type": "code",
   "execution_count": 17,
   "metadata": {},
   "outputs": [
    {
     "name": "stdout",
     "output_type": "stream",
     "text": [
      "0     10.0\n",
      "1     12.0\n",
      "2     14.0\n",
      "3     16.0\n",
      "4     18.0\n",
      "5     20.0\n",
      "6     22.0\n",
      "7     24.0\n",
      "8     26.0\n",
      "9     28.0\n",
      "10    30.0\n",
      "11     NaN\n",
      "12     NaN\n",
      "13     NaN\n",
      "14     NaN\n",
      "15     NaN\n",
      "16     NaN\n",
      "17     NaN\n",
      "18     NaN\n",
      "dtype: float64\n"
     ]
    }
   ],
   "source": [
    "#handle missing values \n",
    "array1=np.arange(10,21)\n",
    "array2=np.arange(19)\n",
    "series1=pd.Series(array1)\n",
    "series2=pd.Series(array2)\n",
    "add_series=series1 + series2\n",
    "print(add_series)"
   ]
  },
  {
   "cell_type": "code",
   "execution_count": 19,
   "metadata": {},
   "outputs": [
    {
     "name": "stdout",
     "output_type": "stream",
     "text": [
      "0     10\n",
      "1     11\n",
      "2     12\n",
      "3     13\n",
      "4     14\n",
      "5     15\n",
      "6     16\n",
      "7     17\n",
      "8     18\n",
      "9     19\n",
      "10    20\n",
      "dtype: int32\n"
     ]
    }
   ],
   "source": [
    "array1=np.arange(10,21)\n",
    "series=pd.Series(array1)\n",
    "print(series)"
   ]
  },
  {
   "cell_type": "code",
   "execution_count": 31,
   "metadata": {},
   "outputs": [],
   "source": [
    "# # index can be specifies:\n",
    "# numbers\n",
    "# alphabtes\n",
    "# symbols"
   ]
  },
  {
   "cell_type": "code",
   "execution_count": 36,
   "metadata": {},
   "outputs": [
    {
     "data": {
      "text/plain": [
       "1"
      ]
     },
     "execution_count": 36,
     "metadata": {},
     "output_type": "execute_result"
    }
   ],
   "source": [
    "series[2]"
   ]
  },
  {
   "cell_type": "code",
   "execution_count": 50,
   "metadata": {},
   "outputs": [
    {
     "name": "stdout",
     "output_type": "stream",
     "text": [
      "/     1\n",
      "A     2\n",
      "4     3\n",
      "a     4\n",
      "6     5\n",
      "7     6\n",
      "8     7\n",
      "84    8\n",
      "z     9\n",
      "dtype: int32\n"
     ]
    }
   ],
   "source": [
    "array1=np.arange(1,10)\n",
    "series=pd.Series(array1,index=['/',\"A\",4,'a',6,7,8,84,'z'])\n",
    "print(series)"
   ]
  },
  {
   "cell_type": "code",
   "execution_count": 51,
   "metadata": {},
   "outputs": [
    {
     "data": {
      "text/plain": [
       "2"
      ]
     },
     "execution_count": 51,
     "metadata": {},
     "output_type": "execute_result"
    }
   ],
   "source": [
    "series['A'] # by capital alphabtes"
   ]
  },
  {
   "cell_type": "code",
   "execution_count": 46,
   "metadata": {},
   "outputs": [
    {
     "data": {
      "text/plain": [
       "8"
      ]
     },
     "execution_count": 46,
     "metadata": {},
     "output_type": "execute_result"
    }
   ],
   "source": [
    "series[84] # by integers"
   ]
  },
  {
   "cell_type": "code",
   "execution_count": 47,
   "metadata": {},
   "outputs": [
    {
     "data": {
      "text/plain": [
       "4"
      ]
     },
     "execution_count": 47,
     "metadata": {},
     "output_type": "execute_result"
    }
   ],
   "source": [
    "series[\"a\"]  # by  small alphabtes"
   ]
  },
  {
   "cell_type": "code",
   "execution_count": 48,
   "metadata": {},
   "outputs": [
    {
     "data": {
      "text/plain": [
       "1"
      ]
     },
     "execution_count": 48,
     "metadata": {},
     "output_type": "execute_result"
    }
   ],
   "source": [
    "series['/'] #by symbols"
   ]
  },
  {
   "cell_type": "code",
   "execution_count": 13,
   "metadata": {},
   "outputs": [
    {
     "ename": "AttributeError",
     "evalue": "module 'pandas' has no attribute 'concatenate'",
     "output_type": "error",
     "traceback": [
      "\u001b[1;31m---------------------------------------------------------------------------\u001b[0m",
      "\u001b[1;31mAttributeError\u001b[0m                            Traceback (most recent call last)",
      "\u001b[1;32m<ipython-input-13-d78c7ec09706>\u001b[0m in \u001b[0;36m<module>\u001b[1;34m\u001b[0m\n\u001b[0;32m      1\u001b[0m \u001b[0ms1\u001b[0m\u001b[1;33m=\u001b[0m\u001b[0mpd\u001b[0m\u001b[1;33m.\u001b[0m\u001b[0mSeries\u001b[0m\u001b[1;33m(\u001b[0m\u001b[1;33m[\u001b[0m\u001b[1;36m2\u001b[0m\u001b[1;33m,\u001b[0m\u001b[1;36m3\u001b[0m\u001b[1;33m,\u001b[0m\u001b[1;36m4\u001b[0m\u001b[1;33m,\u001b[0m\u001b[1;36m7\u001b[0m\u001b[1;33m,\u001b[0m\u001b[1;36m8\u001b[0m\u001b[1;33m,\u001b[0m\u001b[1;36m7\u001b[0m\u001b[1;33m]\u001b[0m\u001b[1;33m)\u001b[0m\u001b[1;33m\u001b[0m\u001b[1;33m\u001b[0m\u001b[0m\n\u001b[0;32m      2\u001b[0m \u001b[0ms2\u001b[0m\u001b[1;33m=\u001b[0m\u001b[0mpd\u001b[0m\u001b[1;33m.\u001b[0m\u001b[0mSeries\u001b[0m\u001b[1;33m(\u001b[0m\u001b[1;33m[\u001b[0m\u001b[1;36m3\u001b[0m\u001b[1;33m,\u001b[0m\u001b[1;36m4\u001b[0m\u001b[1;33m,\u001b[0m\u001b[1;36m4\u001b[0m\u001b[1;33m,\u001b[0m\u001b[1;36m6\u001b[0m\u001b[1;33m,\u001b[0m\u001b[1;36m5\u001b[0m\u001b[1;33m,\u001b[0m\u001b[1;36m3\u001b[0m\u001b[1;33m]\u001b[0m\u001b[1;33m)\u001b[0m\u001b[1;33m\u001b[0m\u001b[1;33m\u001b[0m\u001b[0m\n\u001b[1;32m----> 3\u001b[1;33m \u001b[0mpd\u001b[0m\u001b[1;33m.\u001b[0m\u001b[0mconcatenate\u001b[0m\u001b[1;33m(\u001b[0m\u001b[0ms1\u001b[0m\u001b[1;33m,\u001b[0m\u001b[0ms2\u001b[0m\u001b[1;33m)\u001b[0m\u001b[1;33m\u001b[0m\u001b[1;33m\u001b[0m\u001b[0m\n\u001b[0m\u001b[0;32m      4\u001b[0m \u001b[0ms\u001b[0m\u001b[1;33m[\u001b[0m\u001b[1;36m5\u001b[0m\u001b[1;33m]\u001b[0m\u001b[1;33m\u001b[0m\u001b[1;33m\u001b[0m\u001b[0m\n",
      "\u001b[1;31mAttributeError\u001b[0m: module 'pandas' has no attribute 'concatenate'"
     ]
    }
   ],
   "source": [
    "s1=pd.Series([2,3,4,7,8,7])\n",
    "s2=pd.Series([3,4,4,6,5,3])\n",
    "pd.concatenate(s1,s2)\n",
    "s[5]"
   ]
  },
  {
   "cell_type": "code",
   "execution_count": 7,
   "metadata": {},
   "outputs": [],
   "source": [
    "series1=pd.Series([3,4,5,6,7,8])"
   ]
  },
  {
   "cell_type": "code",
   "execution_count": 8,
   "metadata": {},
   "outputs": [
    {
     "name": "stdout",
     "output_type": "stream",
     "text": [
      "0    3\n",
      "1    4\n",
      "2    5\n",
      "3    6\n",
      "4    7\n",
      "5    8\n",
      "dtype: int64\n"
     ]
    }
   ],
   "source": [
    "print(series1)"
   ]
  },
  {
   "cell_type": "code",
   "execution_count": 9,
   "metadata": {},
   "outputs": [
    {
     "name": "stdout",
     "output_type": "stream",
     "text": [
      "Series1\n",
      "Index is : 2\n",
      "Value is : 5\n",
      "\n",
      "Series1\n",
      "Index is : 0\n",
      "Value is : 3\n"
     ]
    }
   ],
   "source": [
    "print(\"Series1\\nIndex is : 2\\nValue is :\"  , series1[2])\n",
    "\n",
    "print()\n",
    "\n",
    "print(\"Series1\\nIndex is : 0\\nValue is :\"  , series1[0])"
   ]
  },
  {
   "cell_type": "code",
   "execution_count": 34,
   "metadata": {},
   "outputs": [
    {
     "data": {
      "text/plain": [
       "0    [3, 4, 5, 6, 7, 8]\n",
       "1    [3, 4, 5, 6, 7, 8]\n",
       "dtype: object"
      ]
     },
     "execution_count": 34,
     "metadata": {},
     "output_type": "execute_result"
    }
   ],
   "source": [
    "series2=pd.Series([[3,4,5,6,7,8],[3,4,5,6,7,8]])\n",
    "series2"
   ]
  },
  {
   "cell_type": "code",
   "execution_count": 18,
   "metadata": {},
   "outputs": [
    {
     "name": "stdout",
     "output_type": "stream",
     "text": [
      "Series1\n",
      "Index is : 2\n",
      "Value is : 0    [3, 4, 5, 6, 7, 8]\n",
      "dtype: object\n",
      "\n"
     ]
    }
   ],
   "source": [
    "print(\"Series1\\nIndex is : 2\\nValue is :\"  , series2[[0]])\n",
    "\n",
    "print()\n",
    "\n",
    "# print(\"Series1\\nIndex is : 0\\nValue is :\"  , series2[0])"
   ]
  },
  {
   "cell_type": "code",
   "execution_count": 23,
   "metadata": {},
   "outputs": [
    {
     "data": {
      "text/plain": [
       "0    [[3, 4, 5, 6, 7, 8], [3, 4, 5, 6, 7, 8]]\n",
       "1    [[3, 4, 5, 6, 7, 8], [3, 4, 5, 6, 7, 8]]\n",
       "dtype: object"
      ]
     },
     "execution_count": 23,
     "metadata": {},
     "output_type": "execute_result"
    }
   ],
   "source": [
    "series3=pd.Series([[[3,4,5,6,7,8],[3,4,5,6,7,8]],[[3,4,5,6,7,8],[3,4,5,6,7,8]]])\n",
    "series3\n"
   ]
  },
  {
   "cell_type": "code",
   "execution_count": null,
   "metadata": {},
   "outputs": [],
   "source": [
    "\n"
   ]
  },
  {
   "cell_type": "code",
   "execution_count": 25,
   "metadata": {},
   "outputs": [
    {
     "name": "stdout",
     "output_type": "stream",
     "text": [
      "0     1\n",
      "1     2\n",
      "2    34\n",
      "3     4\n",
      "4     5\n",
      "dtype: int64\n"
     ]
    }
   ],
   "source": [
    "series=pd.Series([1,2,34,4,5])\n",
    "print(series)"
   ]
  },
  {
   "cell_type": "code",
   "execution_count": 28,
   "metadata": {},
   "outputs": [
    {
     "data": {
      "text/plain": [
       "0     1\n",
       "1     2\n",
       "2    35\n",
       "3     4\n",
       "4     5\n",
       "dtype: int64"
      ]
     },
     "execution_count": 28,
     "metadata": {},
     "output_type": "execute_result"
    }
   ],
   "source": [
    "series[2]=35\n",
    "series"
   ]
  },
  {
   "cell_type": "code",
   "execution_count": 29,
   "metadata": {},
   "outputs": [
    {
     "data": {
      "text/plain": [
       "4"
      ]
     },
     "execution_count": 29,
     "metadata": {},
     "output_type": "execute_result"
    }
   ],
   "source": [
    "series[3]"
   ]
  },
  {
   "cell_type": "code",
   "execution_count": 111,
   "metadata": {},
   "outputs": [
    {
     "data": {
      "text/plain": [
       "0    [1, 4, 7, 8, 9]\n",
       "1    [4, 8, 9, 7, 5]\n",
       "dtype: object"
      ]
     },
     "execution_count": 111,
     "metadata": {},
     "output_type": "execute_result"
    }
   ],
   "source": [
    "series2d=pd.Series([[1,4,7,8,9],[4,8,9,7,5]])\n",
    "series2d"
   ]
  },
  {
   "cell_type": "code",
   "execution_count": 112,
   "metadata": {},
   "outputs": [
    {
     "data": {
      "text/plain": [
       "0    [1, 4, (23, 2, 5), 8, 9]\n",
       "1             [4, 8, 9, 7, 5]\n",
       "dtype: object"
      ]
     },
     "execution_count": 112,
     "metadata": {},
     "output_type": "execute_result"
    }
   ],
   "source": [
    "series2d[0][2]=23,2,5   #more than on value at the index of one..\n",
    "series2d"
   ]
  },
  {
   "cell_type": "code",
   "execution_count": 62,
   "metadata": {},
   "outputs": [
    {
     "data": {
      "text/plain": [
       "0    5\n",
       "1    6\n",
       "2    7\n",
       "3    7\n",
       "dtype: int64"
      ]
     },
     "execution_count": 62,
     "metadata": {},
     "output_type": "execute_result"
    }
   ],
   "source": [
    "a=pd.Series([5,6,7,7])\n",
    "a"
   ]
  },
  {
   "cell_type": "code",
   "execution_count": 86,
   "metadata": {},
   "outputs": [
    {
     "name": "stdout",
     "output_type": "stream",
     "text": [
      "name  :  sadiq shah\n",
      "age  :  21\n"
     ]
    }
   ],
   "source": [
    "b=a[0]={\"name\" : \"sadiq shah\" , \"age\" : 21}\n",
    "for i,j in b.items():\n",
    "   print(i, \" : \" ,j)"
   ]
  },
  {
   "cell_type": "code",
   "execution_count": 102,
   "metadata": {},
   "outputs": [
    {
     "name": "stdout",
     "output_type": "stream",
     "text": [
      "0                sadiq shah\n",
      "1                        22\n",
      "2    shahsadiq208@gmail.com\n",
      "3                      BScs\n",
      "dtype: object\n",
      "\n",
      "0    [sadiq shah, 22, shahsadiq208@gmail.com, BScs]\n",
      "1     [Faisal Amin, 22, FaisalAmin@gmail.com, BScs]\n",
      "dtype: object\n",
      "\n",
      "0    [[Kashif Anwar, 22, KashifAnwar@gmail.com, BSc...\n",
      "dtype: object\n"
     ]
    }
   ],
   "source": [
    "_1D=pd.Series([\"sadiq shah\",22,\"shahsadiq208@gmail.com\",'BScs'])\n",
    "_2D=pd.Series([[\"sadiq shah\",22,\"shahsadiq208@gmail.com\",'BScs']  , [\"Faisal Amin\",22,\"FaisalAmin@gmail.com\",'BScs']])\n",
    "_3D=pd.Series([[[\"Kashif Anwar\",22,'KashifAnwar@gmail.com','BScs']  , [\"Faisal Amin\",22,\"FaisalAmin@gmail.com\",'BScs'],]])\n",
    "\n",
    "print(_1D)\n",
    "print()\n",
    "print(_2D)\n",
    "\n",
    "print()\n",
    "print(_3D)"
   ]
  },
  {
   "cell_type": "code",
   "execution_count": 105,
   "metadata": {},
   "outputs": [
    {
     "name": "stdout",
     "output_type": "stream",
     "text": [
      "0                sadiq shah\n",
      "1                        22\n",
      "2    shahsadiq208@gmail.com\n",
      "3                      BScs\n",
      "dtype: object\n"
     ]
    }
   ],
   "source": []
  },
  {
   "cell_type": "code",
   "execution_count": 140,
   "metadata": {},
   "outputs": [
    {
     "name": "stdout",
     "output_type": "stream",
     "text": [
      "0                sadiq shah\n",
      "1                        22\n",
      "2    shahsadiq208@gmail.com\n",
      "3                      BScs\n",
      "dtype: object \n",
      "\n",
      "Normal Acsessing:\n",
      "--------------------\n",
      "Naming Index is : 0\n",
      "Value is : 0    sadiq shah\n",
      "dtype: object\n",
      "\n",
      "Email Index is : 2\n",
      "Value is : 2    shahsadiq208@gmail.com\n",
      "dtype: object\n",
      "\n",
      "Fancing Indexig :\n",
      "----------------------\n",
      "Name and Email adress:\n",
      " 0                sadiq shah\n",
      "2    shahsadiq208@gmail.com\n",
      "dtype: object\n"
     ]
    }
   ],
   "source": [
    "_1D=pd.Series([\"sadiq shah\",22,\"shahsadiq208@gmail.com\",'BScs'])\n",
    "print(_1D,\"\\n\")\n",
    "\n",
    "print(\"Normal Acsessing:\")\n",
    "print(\"--------------------\")\n",
    "print(\"Naming Index is : 0\\nValue is :\"  , _1D[[0]])\n",
    "\n",
    "print()\n",
    "\n",
    "print(\"Email Index is : 2\\nValue is :\"  , _1D[[2]])\n",
    "\n",
    "\n",
    "print(\"\\nFancing Indexig :\")\n",
    "print('----------------------')\n",
    "\n",
    "print(\"Name and Email adress:\\n\",_1D[[0,2]])\n"
   ]
  },
  {
   "cell_type": "code",
   "execution_count": 27,
   "metadata": {},
   "outputs": [
    {
     "name": "stdout",
     "output_type": "stream",
     "text": [
      "RangeIndex(start=0, stop=4, step=1)\n",
      "[3 4 5 6]\n",
      "0    3\n",
      "1    4\n",
      "2    5\n",
      "3    6\n",
      "dtype: int64\n"
     ]
    }
   ],
   "source": [
    "s1=pd.Series([3,4,5,6])\n",
    "print(s1.index)\n",
    "print(s1.values)\n",
    "print(s1)"
   ]
  },
  {
   "cell_type": "markdown",
   "metadata": {},
   "source": [
    "# Series with list"
   ]
  },
  {
   "cell_type": "code",
   "execution_count": 57,
   "metadata": {},
   "outputs": [
    {
     "name": "stdout",
     "output_type": "stream",
     "text": [
      "0     sadiq\n",
      "1       Ali\n",
      "2    Kashif\n",
      "dtype: object\n"
     ]
    },
    {
     "data": {
      "text/plain": [
       "'Ali'"
      ]
     },
     "execution_count": 57,
     "metadata": {},
     "output_type": "execute_result"
    }
   ],
   "source": [
    "list1=[\"sadiq\",\"Ali\",\"Kashif\"]\n",
    "s=pd.Series(list1)\n",
    "print(s)\n",
    "s[1]"
   ]
  },
  {
   "cell_type": "markdown",
   "metadata": {},
   "source": [
    "# Series with dictionary"
   ]
  },
  {
   "cell_type": "code",
   "execution_count": 54,
   "metadata": {},
   "outputs": [
    {
     "name": "stdout",
     "output_type": "stream",
     "text": [
      "name :        sadiq sah\n",
      "age :                22\n",
      "Contact :    3218799686\n",
      "dtype: object\n"
     ]
    },
    {
     "data": {
      "text/plain": [
       "name :       sadiq sah\n",
       "age :               22\n",
       "Contact :    312250235\n",
       "dtype: object"
      ]
     },
     "execution_count": 54,
     "metadata": {},
     "output_type": "execute_result"
    }
   ],
   "source": [
    "dic1={\"name : \" : \"sadiq sah\" , \"age :\":22, \"Contact :\" : 3218799686}\n",
    "s2=pd.Series(dic1)\n",
    "print(s2)\n",
    "s2[2]=312250235\n",
    "s2\n"
   ]
  },
  {
   "cell_type": "markdown",
   "metadata": {},
   "source": [
    "# list of dic"
   ]
  },
  {
   "cell_type": "code",
   "execution_count": 63,
   "metadata": {},
   "outputs": [
    {
     "name": "stdout",
     "output_type": "stream",
     "text": [
      "name     [sadiq, Ali, Kashif, Kamran]\n",
      "age                  [12, 34, 55, 33]\n",
      "class           [Bscs, Bsc, Bsc, Bsc]\n",
      "dtype: object\n"
     ]
    }
   ],
   "source": [
    "l_o_d={\n",
    "    \"name\" : [\"sadiq\",\"Ali\",'Kashif',\"Kamran\"],\n",
    "    \"age\"  :[12,34,55,33],\n",
    "    \"class\" :[\"Bscs\",\"Bsc\",\"Bsc\",\"Bsc\"]\n",
    "}\n",
    "\n",
    "s3=pd.Series(l_o_d)\n",
    "print(s3)"
   ]
  },
  {
   "cell_type": "code",
   "execution_count": 64,
   "metadata": {},
   "outputs": [
    {
     "data": {
      "text/plain": [
       "[12, 34, 55, 33]"
      ]
     },
     "execution_count": 64,
     "metadata": {},
     "output_type": "execute_result"
    }
   ],
   "source": [
    "l_o_d[\"name\"]\n",
    "l_o_d[\"age\"]"
   ]
  },
  {
   "cell_type": "code",
   "execution_count": 73,
   "metadata": {},
   "outputs": [
    {
     "name": "stdout",
     "output_type": "stream",
     "text": [
      "California        NaN\n",
      "Ohio          35000.0\n",
      "Oregon        16000.0\n",
      "Texas         71000.0\n",
      "dtype: float64\n"
     ]
    }
   ],
   "source": [
    "sdata = {'Ohio': 35000, 'Texas': 71000, 'Oregon': 16000, 'Utah': 5000}\n",
    "states = ['California', 'Ohio', 'Oregon', 'Texas']\n",
    "\n",
    "obj4 = pd.Series(sdata, index=states)\n",
    "print(obj4)"
   ]
  },
  {
   "cell_type": "code",
   "execution_count": 81,
   "metadata": {},
   "outputs": [
    {
     "name": "stdout",
     "output_type": "stream",
     "text": [
      "name        sadiq sah\n",
      "age                22\n",
      "Contact    3218799686\n",
      "adress            NaN\n",
      "dtype: object\n"
     ]
    }
   ],
   "source": [
    "dic1={\"name\" : \"sadiq sah\" , \"age\" :\"22\", \"Contact\" : 3218799686}\n",
    "list1=[\"name\",'age',\"Contact\",\"adress\"]\n",
    "\n",
    "ob=pd.Series(dic1,index=list1)\n",
    "print(ob)"
   ]
  },
  {
   "cell_type": "code",
   "execution_count": 86,
   "metadata": {},
   "outputs": [
    {
     "data": {
      "text/plain": [
       "name       False\n",
       "age        False\n",
       "Contact    False\n",
       "adress      True\n",
       "dtype: bool"
      ]
     },
     "execution_count": 86,
     "metadata": {},
     "output_type": "execute_result"
    }
   ],
   "source": [
    "ob.isnull()  # wrong statement"
   ]
  },
  {
   "cell_type": "code",
   "execution_count": 85,
   "metadata": {},
   "outputs": [
    {
     "data": {
      "text/plain": [
       "name        True\n",
       "age         True\n",
       "Contact     True\n",
       "adress     False\n",
       "dtype: bool"
      ]
     },
     "execution_count": 85,
     "metadata": {},
     "output_type": "execute_result"
    }
   ],
   "source": [
    "ob.notnull() #correct statement"
   ]
  },
  {
   "cell_type": "code",
   "execution_count": 88,
   "metadata": {},
   "outputs": [],
   "source": [
    "ss=pd.Series([3,4,5,6,6])\n",
    "\n",
    "ss.index=[1,2,3,4,4]"
   ]
  },
  {
   "cell_type": "code",
   "execution_count": 89,
   "metadata": {},
   "outputs": [
    {
     "name": "stdout",
     "output_type": "stream",
     "text": [
      "1    3\n",
      "2    4\n",
      "3    5\n",
      "4    6\n",
      "4    6\n",
      "dtype: int64\n"
     ]
    }
   ],
   "source": [
    "print(ss)"
   ]
  },
  {
   "cell_type": "code",
   "execution_count": 94,
   "metadata": {},
   "outputs": [
    {
     "name": "stdout",
     "output_type": "stream",
     "text": [
      "1     6\n",
      "2     8\n",
      "3    10\n",
      "4    12\n",
      "4    12\n",
      "dtype: int64\n"
     ]
    }
   ],
   "source": [
    "a=ss+ss\n",
    "print(a)"
   ]
  },
  {
   "cell_type": "code",
   "execution_count": 97,
   "metadata": {},
   "outputs": [
    {
     "name": "stdout",
     "output_type": "stream",
     "text": [
      "1    0\n",
      "2    0\n",
      "3    0\n",
      "4    0\n",
      "4    0\n",
      "dtype: int64\n"
     ]
    }
   ],
   "source": [
    "a=ss-ss\n",
    "print(a)"
   ]
  },
  {
   "cell_type": "code",
   "execution_count": 98,
   "metadata": {},
   "outputs": [
    {
     "name": "stdout",
     "output_type": "stream",
     "text": [
      "1     9\n",
      "2    16\n",
      "3    25\n",
      "4    36\n",
      "4    36\n",
      "dtype: int64\n"
     ]
    }
   ],
   "source": [
    "a=ss*ss\n",
    "print(a)"
   ]
  },
  {
   "cell_type": "code",
   "execution_count": 99,
   "metadata": {},
   "outputs": [
    {
     "name": "stdout",
     "output_type": "stream",
     "text": [
      "1       27\n",
      "2      256\n",
      "3     3125\n",
      "4    46656\n",
      "4    46656\n",
      "dtype: int64\n"
     ]
    }
   ],
   "source": [
    "a=ss**ss\n",
    "print(a)"
   ]
  },
  {
   "cell_type": "code",
   "execution_count": 124,
   "metadata": {},
   "outputs": [
    {
     "data": {
      "text/plain": [
       "0    [(23, 3, e), 4, 4, 5]\n",
       "1            [23, 4, 5, 3]\n",
       "dtype: object"
      ]
     },
     "execution_count": 124,
     "metadata": {},
     "output_type": "execute_result"
    }
   ],
   "source": [
    "s=pd.Series([[3,4,4,5],[23,4,5,3]])\n",
    "s[0][0]=23,3,\"e\"\n",
    "s\n"
   ]
  },
  {
   "cell_type": "code",
   "execution_count": null,
   "metadata": {},
   "outputs": [],
   "source": []
  },
  {
   "cell_type": "code",
   "execution_count": 7,
   "metadata": {},
   "outputs": [
    {
     "name": "stdout",
     "output_type": "stream",
     "text": [
      "a    2\n",
      "b    3\n",
      "c    4\n",
      "d    5\n",
      "dtype: int64\n"
     ]
    }
   ],
   "source": [
    "series1=pd.Series([2,3,4,5], ['a','b','c','d'])\n",
    "print(series1)"
   ]
  },
  {
   "cell_type": "code",
   "execution_count": 12,
   "metadata": {},
   "outputs": [
    {
     "data": {
      "text/plain": [
       "a     2\n",
       "b     3\n",
       "c    23\n",
       "d     5\n",
       "dtype: int64"
      ]
     },
     "execution_count": 12,
     "metadata": {},
     "output_type": "execute_result"
    }
   ],
   "source": [
    "series1[\"c\"]=23\n",
    "series1"
   ]
  },
  {
   "cell_type": "code",
   "execution_count": 22,
   "metadata": {},
   "outputs": [
    {
     "name": "stdout",
     "output_type": "stream",
     "text": [
      "1    2\n",
      "2    3\n",
      "3    4\n",
      "4    5\n",
      "dtype: int64\n"
     ]
    }
   ],
   "source": [
    "series2=pd.Series([2,3,4,5], [1,2,3,4])\n",
    "print(series2)"
   ]
  },
  {
   "cell_type": "code",
   "execution_count": 23,
   "metadata": {},
   "outputs": [
    {
     "name": "stdout",
     "output_type": "stream",
     "text": [
      "!    2\n",
      "/    3\n",
      "%    4\n",
      "&    5\n",
      "dtype: int64\n"
     ]
    }
   ],
   "source": [
    "series2=pd.Series([2,3,4,5], [\"!\",'/','%','&'])\n",
    "print(series2)"
   ]
  },
  {
   "cell_type": "code",
   "execution_count": 32,
   "metadata": {},
   "outputs": [
    {
     "ename": "NameError",
     "evalue": "name 'series2' is not defined",
     "output_type": "error",
     "traceback": [
      "\u001b[1;31m---------------------------------------------------------------------------\u001b[0m",
      "\u001b[1;31mNameError\u001b[0m                                 Traceback (most recent call last)",
      "\u001b[1;32m<ipython-input-32-d57b92ca3a74>\u001b[0m in \u001b[0;36m<module>\u001b[1;34m\u001b[0m\n\u001b[1;32m----> 1\u001b[1;33m \u001b[0mseries2\u001b[0m\u001b[1;33m[\u001b[0m\u001b[1;34m\"&\"\u001b[0m\u001b[1;33m]\u001b[0m\u001b[1;33m\u001b[0m\u001b[1;33m\u001b[0m\u001b[0m\n\u001b[0m",
      "\u001b[1;31mNameError\u001b[0m: name 'series2' is not defined"
     ]
    }
   ],
   "source": [
    "series2[\"&\"]"
   ]
  },
  {
   "cell_type": "code",
   "execution_count": 31,
   "metadata": {},
   "outputs": [
    {
     "name": "stdout",
     "output_type": "stream",
     "text": [
      "2    3\n",
      "3    4\n",
      "4    5\n",
      "5    6\n",
      "5    6\n",
      "4    6\n",
      "dtype: int64\n"
     ]
    }
   ],
   "source": [
    "list_o_list=[3,4,5,6,6,6]\n",
    "indexes=[2,3,4,5,5,4]\n",
    "s=pd.Series(list_o_list,indexes)\n",
    "print(s)"
   ]
  },
  {
   "cell_type": "markdown",
   "metadata": {},
   "source": [
    "# Where file locate"
   ]
  },
  {
   "cell_type": "code",
   "execution_count": 1,
   "metadata": {},
   "outputs": [
    {
     "name": "stdout",
     "output_type": "stream",
     "text": [
      "D:\\PIAIC DOC\\Q2\\pandas\\PRACTICE\n"
     ]
    }
   ],
   "source": [
    "import os\n",
    "print(os.getcwd())"
   ]
  },
  {
   "cell_type": "code",
   "execution_count": 2,
   "metadata": {},
   "outputs": [],
   "source": [
    "import numpy as np"
   ]
  },
  {
   "cell_type": "code",
   "execution_count": 31,
   "metadata": {},
   "outputs": [
    {
     "data": {
      "text/plain": [
       "array([[ 1,  3,  5,  7,  9, 11],\n",
       "       [ 2,  4,  6,  8, 10, 12]])"
      ]
     },
     "execution_count": 31,
     "metadata": {},
     "output_type": "execute_result"
    }
   ],
   "source": [
    "a = np.array([[1, 3, 5, 7, 9, 11], \n",
    "              [2, 4, 6, 8, 10, 12]]) \n",
    "a"
   ]
  },
  {
   "cell_type": "code",
   "execution_count": 35,
   "metadata": {},
   "outputs": [
    {
     "data": {
      "text/plain": [
       "[array([[1, 3, 5],\n",
       "        [2, 4, 6]]), array([[ 7,  9, 11],\n",
       "        [ 8, 10, 12]])]"
      ]
     },
     "execution_count": 35,
     "metadata": {},
     "output_type": "execute_result"
    }
   ],
   "source": [
    "np.hsplit(a,2)"
   ]
  },
  {
   "cell_type": "code",
   "execution_count": 36,
   "metadata": {},
   "outputs": [
    {
     "data": {
      "text/plain": [
       "[array([[ 1,  3,  5,  7,  9, 11]]), array([[ 2,  4,  6,  8, 10, 12]])]"
      ]
     },
     "execution_count": 36,
     "metadata": {},
     "output_type": "execute_result"
    }
   ],
   "source": [
    "np.vsplit(a,2)"
   ]
  },
  {
   "cell_type": "code",
   "execution_count": 38,
   "metadata": {},
   "outputs": [
    {
     "data": {
      "text/plain": [
       "[array([[ 1,  3,  5,  7,  9, 11]]), array([[ 2,  4,  6,  8, 10, 12]])]"
      ]
     },
     "execution_count": 38,
     "metadata": {},
     "output_type": "execute_result"
    }
   ],
   "source": [
    "np.split(a,2,axis=0)"
   ]
  },
  {
   "cell_type": "code",
   "execution_count": null,
   "metadata": {},
   "outputs": [],
   "source": []
  }
 ],
 "metadata": {
  "kernelspec": {
   "display_name": "Python 3",
   "language": "python",
   "name": "python3"
  },
  "language_info": {
   "codemirror_mode": {
    "name": "ipython",
    "version": 3
   },
   "file_extension": ".py",
   "mimetype": "text/x-python",
   "name": "python",
   "nbconvert_exporter": "python",
   "pygments_lexer": "ipython3",
   "version": "3.7.3"
  }
 },
 "nbformat": 4,
 "nbformat_minor": 2
}
