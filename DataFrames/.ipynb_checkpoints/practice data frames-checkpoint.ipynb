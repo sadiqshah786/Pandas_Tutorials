{
 "cells": [
  {
   "cell_type": "code",
   "execution_count": 2,
   "metadata": {},
   "outputs": [],
   "source": [
    "import numpy as np\n",
    "import pandas as pd"
   ]
  },
  {
   "cell_type": "code",
   "execution_count": 21,
   "metadata": {},
   "outputs": [
    {
     "data": {
      "text/html": [
       "<div>\n",
       "<style scoped>\n",
       "    .dataframe tbody tr th:only-of-type {\n",
       "        vertical-align: middle;\n",
       "    }\n",
       "\n",
       "    .dataframe tbody tr th {\n",
       "        vertical-align: top;\n",
       "    }\n",
       "\n",
       "    .dataframe thead th {\n",
       "        text-align: right;\n",
       "    }\n",
       "</style>\n",
       "<table border=\"1\" class=\"dataframe\">\n",
       "  <thead>\n",
       "    <tr style=\"text-align: right;\">\n",
       "      <th></th>\n",
       "      <th>Names</th>\n",
       "      <th>Degree</th>\n",
       "      <th>COntact No</th>\n",
       "    </tr>\n",
       "  </thead>\n",
       "  <tbody>\n",
       "    <tr>\n",
       "      <th>0</th>\n",
       "      <td>Sadiq shah</td>\n",
       "      <td>BScs</td>\n",
       "      <td>22435346</td>\n",
       "    </tr>\n",
       "    <tr>\n",
       "      <th>1</th>\n",
       "      <td>Ali Baksh</td>\n",
       "      <td>10th</td>\n",
       "      <td>6867978</td>\n",
       "    </tr>\n",
       "    <tr>\n",
       "      <th>2</th>\n",
       "      <td>Faizaan</td>\n",
       "      <td>BScs</td>\n",
       "      <td>67869898</td>\n",
       "    </tr>\n",
       "    <tr>\n",
       "      <th>3</th>\n",
       "      <td>Kahisf</td>\n",
       "      <td>Bscs</td>\n",
       "      <td>769877</td>\n",
       "    </tr>\n",
       "  </tbody>\n",
       "</table>\n",
       "</div>"
      ],
      "text/plain": [
       "        Names Degree  COntact No\n",
       "0  Sadiq shah   BScs    22435346\n",
       "1   Ali Baksh   10th     6867978\n",
       "2     Faizaan   BScs    67869898\n",
       "3      Kahisf   Bscs      769877"
      ]
     },
     "execution_count": 21,
     "metadata": {},
     "output_type": "execute_result"
    }
   ],
   "source": [
    "# dict into list : in dict into list the keys of dictionary work as a be columns \n",
    "df1={\n",
    "    \"Names\" : [\"Sadiq shah\" , \"Ali Baksh\" , \"Faizaan\" , \"Kahisf\"] ,\n",
    "    \"Degree\": [\"BScs\" , \"10th\" , \"BScs\" , \"Bscs\"],\n",
    "    \"COntact No\" : [22435346,6867978,67869898,769877]\n",
    "    \n",
    "    \n",
    "}\n",
    "data=pd.DataFrame(df1)\n",
    "data"
   ]
  },
  {
   "cell_type": "code",
   "execution_count": 22,
   "metadata": {},
   "outputs": [
    {
     "data": {
      "text/html": [
       "<div>\n",
       "<style scoped>\n",
       "    .dataframe tbody tr th:only-of-type {\n",
       "        vertical-align: middle;\n",
       "    }\n",
       "\n",
       "    .dataframe tbody tr th {\n",
       "        vertical-align: top;\n",
       "    }\n",
       "\n",
       "    .dataframe thead th {\n",
       "        text-align: right;\n",
       "    }\n",
       "</style>\n",
       "<table border=\"1\" class=\"dataframe\">\n",
       "  <thead>\n",
       "    <tr style=\"text-align: right;\">\n",
       "      <th></th>\n",
       "      <th>Karachi_2016</th>\n",
       "      <th>Karachi_2017</th>\n",
       "      <th>Karachi_2018</th>\n",
       "      <th>Karachi_2019</th>\n",
       "    </tr>\n",
       "  </thead>\n",
       "  <tbody>\n",
       "    <tr>\n",
       "      <th>2016</th>\n",
       "      <td>3446345545</td>\n",
       "      <td>3446344445</td>\n",
       "      <td>344634533445</td>\n",
       "      <td>344634554343</td>\n",
       "    </tr>\n",
       "    <tr>\n",
       "      <th>2017</th>\n",
       "      <td>3446345545</td>\n",
       "      <td>3446344445</td>\n",
       "      <td>344634533445</td>\n",
       "      <td>344634554343</td>\n",
       "    </tr>\n",
       "    <tr>\n",
       "      <th>2018</th>\n",
       "      <td>3446345545</td>\n",
       "      <td>3446344445</td>\n",
       "      <td>344634533445</td>\n",
       "      <td>344634554343</td>\n",
       "    </tr>\n",
       "    <tr>\n",
       "      <th>2019</th>\n",
       "      <td>3446345545</td>\n",
       "      <td>3446344445</td>\n",
       "      <td>344634533445</td>\n",
       "      <td>344634554343</td>\n",
       "    </tr>\n",
       "  </tbody>\n",
       "</table>\n",
       "</div>"
      ],
      "text/plain": [
       "      Karachi_2016  Karachi_2017  Karachi_2018  Karachi_2019\n",
       "2016    3446345545    3446344445  344634533445  344634554343\n",
       "2017    3446345545    3446344445  344634533445  344634554343\n",
       "2018    3446345545    3446344445  344634533445  344634554343\n",
       "2019    3446345545    3446344445  344634533445  344634554343"
      ]
     },
     "execution_count": 22,
     "metadata": {},
     "output_type": "execute_result"
    }
   ],
   "source": [
    "df2={\n",
    "     \"Karachi_2016\" : 3446345545,\n",
    "    \"Karachi_2017\" : 3446344445,\n",
    "    \"Karachi_2018\" : 344634533445,\n",
    "    \"Karachi_2019\" : 344634554343,   \n",
    "}\n",
    "years=[2016,2017,2018,2019]\n",
    "data=pd.DataFrame(df2,years)\n",
    "data"
   ]
  },
  {
   "cell_type": "code",
   "execution_count": 59,
   "metadata": {},
   "outputs": [
    {
     "data": {
      "text/html": [
       "<div>\n",
       "<style scoped>\n",
       "    .dataframe tbody tr th:only-of-type {\n",
       "        vertical-align: middle;\n",
       "    }\n",
       "\n",
       "    .dataframe tbody tr th {\n",
       "        vertical-align: top;\n",
       "    }\n",
       "\n",
       "    .dataframe thead th {\n",
       "        text-align: right;\n",
       "    }\n",
       "</style>\n",
       "<table border=\"1\" class=\"dataframe\">\n",
       "  <thead>\n",
       "    <tr style=\"text-align: right;\">\n",
       "      <th></th>\n",
       "      <th>Roll_NO</th>\n",
       "      <th>Names</th>\n",
       "    </tr>\n",
       "  </thead>\n",
       "  <tbody>\n",
       "    <tr>\n",
       "      <th>0</th>\n",
       "      <td>34</td>\n",
       "      <td>Sadiq</td>\n",
       "    </tr>\n",
       "    <tr>\n",
       "      <th>1</th>\n",
       "      <td>65</td>\n",
       "      <td>Zara</td>\n",
       "    </tr>\n",
       "    <tr>\n",
       "      <th>2</th>\n",
       "      <td>34</td>\n",
       "      <td>Amna</td>\n",
       "    </tr>\n",
       "    <tr>\n",
       "      <th>3</th>\n",
       "      <td>34</td>\n",
       "      <td>Saim</td>\n",
       "    </tr>\n",
       "    <tr>\n",
       "      <th>4</th>\n",
       "      <td>67</td>\n",
       "      <td>Kiran</td>\n",
       "    </tr>\n",
       "    <tr>\n",
       "      <th>5</th>\n",
       "      <td>56</td>\n",
       "      <td>NaN</td>\n",
       "    </tr>\n",
       "  </tbody>\n",
       "</table>\n",
       "</div>"
      ],
      "text/plain": [
       "   Roll_NO  Names\n",
       "0       34  Sadiq\n",
       "1       65   Zara\n",
       "2       34   Amna\n",
       "3       34   Saim\n",
       "4       67  Kiran\n",
       "5       56    NaN"
      ]
     },
     "execution_count": 59,
     "metadata": {},
     "output_type": "execute_result"
    }
   ],
   "source": [
    "data={\n",
    "    \"Roll_NO\" : pd.Series([34,65,34,34,67,56]),\n",
    "    \"Names\"  : pd.Series([\"Sadiq\",\"Zara\",'Amna',\"Saim\",\"Kiran\"])\n",
    "    \n",
    "}\n",
    "df=pd.DataFrame(data)\n",
    "df"
   ]
  },
  {
   "cell_type": "code",
   "execution_count": 68,
   "metadata": {},
   "outputs": [
    {
     "data": {
      "text/html": [
       "<div>\n",
       "<style scoped>\n",
       "    .dataframe tbody tr th:only-of-type {\n",
       "        vertical-align: middle;\n",
       "    }\n",
       "\n",
       "    .dataframe tbody tr th {\n",
       "        vertical-align: top;\n",
       "    }\n",
       "\n",
       "    .dataframe thead th {\n",
       "        text-align: right;\n",
       "    }\n",
       "</style>\n",
       "<table border=\"1\" class=\"dataframe\">\n",
       "  <thead>\n",
       "    <tr style=\"text-align: right;\">\n",
       "      <th></th>\n",
       "      <th>Pakistan</th>\n",
       "      <th>INdia</th>\n",
       "      <th>Bangla Desh</th>\n",
       "    </tr>\n",
       "  </thead>\n",
       "  <tbody>\n",
       "    <tr>\n",
       "      <th>Country1</th>\n",
       "      <td>Khi</td>\n",
       "      <td>NaN</td>\n",
       "      <td>NaN</td>\n",
       "    </tr>\n",
       "    <tr>\n",
       "      <th>Country2</th>\n",
       "      <td>NaN</td>\n",
       "      <td>Bomby</td>\n",
       "      <td>NaN</td>\n",
       "    </tr>\n",
       "    <tr>\n",
       "      <th>Country3</th>\n",
       "      <td>NaN</td>\n",
       "      <td>NaN</td>\n",
       "      <td>Dhaka</td>\n",
       "    </tr>\n",
       "  </tbody>\n",
       "</table>\n",
       "</div>"
      ],
      "text/plain": [
       "         Pakistan  INdia Bangla Desh\n",
       "Country1      Khi    NaN         NaN\n",
       "Country2      NaN  Bomby         NaN\n",
       "Country3      NaN    NaN       Dhaka"
      ]
     },
     "execution_count": 68,
     "metadata": {},
     "output_type": "execute_result"
    }
   ],
   "source": [
    "#dic to dic\n",
    "data={\n",
    "    \n",
    "        \"Pakistan\" : {\"Country1\" : 'Khi'},\n",
    "          #columns      index        value\n",
    "        \"INdia\"  : {\"Country2\" : 'Bomby'},\n",
    "       \"Bangla Desh\"  : {\"Country3\" : 'Dhaka'}\n",
    "    \n",
    "}\n",
    "\n",
    "dic_to_dic=pd.DataFrame(data)\n",
    "dic_to_dic"
   ]
  },
  {
   "cell_type": "code",
   "execution_count": 62,
   "metadata": {},
   "outputs": [],
   "source": [
    "d"
   ]
  },
  {
   "cell_type": "code",
   "execution_count": null,
   "metadata": {},
   "outputs": [],
   "source": []
  }
 ],
 "metadata": {
  "kernelspec": {
   "display_name": "Python 3",
   "language": "python",
   "name": "python3"
  },
  "language_info": {
   "codemirror_mode": {
    "name": "ipython",
    "version": 3
   },
   "file_extension": ".py",
   "mimetype": "text/x-python",
   "name": "python",
   "nbconvert_exporter": "python",
   "pygments_lexer": "ipython3",
   "version": "3.7.3"
  }
 },
 "nbformat": 4,
 "nbformat_minor": 2
}
