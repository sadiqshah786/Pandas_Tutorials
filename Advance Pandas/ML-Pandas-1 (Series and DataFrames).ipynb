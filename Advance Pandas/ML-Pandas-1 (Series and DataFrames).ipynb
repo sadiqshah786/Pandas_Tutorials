{
 "cells": [
  {
   "cell_type": "markdown",
   "metadata": {},
   "source": [
    "# Series and DataFrames"
   ]
  },
  {
   "cell_type": "code",
   "execution_count": 1,
   "metadata": {},
   "outputs": [],
   "source": [
    "import numpy as np\n",
    "import pandas as pd\n",
    "import matplotlib.pyplot as plt"
   ]
  },
  {
   "cell_type": "raw",
   "metadata": {},
   "source": [
    "# Series:\n",
    "Image result for what is series in pandas\n",
    "Pandas Series is a one-dimensional labeled array capable of holding data of any type (integer, string, float, python objects, etc"
   ]
  },
  {
   "cell_type": "code",
   "execution_count": 2,
   "metadata": {},
   "outputs": [
    {
     "data": {
      "text/plain": [
       "0      Coclate\n",
       "1        Mango\n",
       "2    Strwberry\n",
       "dtype: object"
      ]
     },
     "execution_count": 2,
     "metadata": {},
     "output_type": "execute_result"
    }
   ],
   "source": [
    "S1=['Coclate','Mango',\"Strwberry\"]\n",
    "\n",
    "series1=pd.Series(S1)\n",
    "\n",
    "series1"
   ]
  },
  {
   "cell_type": "markdown",
   "metadata": {},
   "source": [
    "# index and values"
   ]
  },
  {
   "cell_type": "code",
   "execution_count": 3,
   "metadata": {},
   "outputs": [
    {
     "name": "stdout",
     "output_type": "stream",
     "text": [
      "0   1   2   \n",
      "\n",
      "Coclate   Mango   Strwberry   "
     ]
    }
   ],
   "source": [
    "for i in series1.index:\n",
    "    print(i,end='   ')\n",
    "  \n",
    "print(\"\\n\")\n",
    "\n",
    "\n",
    "for i in series1.values:\n",
    "    print(i,end='   ')"
   ]
  },
  {
   "cell_type": "code",
   "execution_count": 4,
   "metadata": {},
   "outputs": [
    {
     "data": {
      "text/plain": [
       "0    1\n",
       "1    2\n",
       "2    3\n",
       "3    4\n",
       "4    5\n",
       "dtype: int32"
      ]
     },
     "execution_count": 4,
     "metadata": {},
     "output_type": "execute_result"
    }
   ],
   "source": [
    "#numeric series\n",
    "a=np.arange(1,100)\n",
    "series2=pd.Series(a)\n",
    "series2.head()"
   ]
  },
  {
   "cell_type": "code",
   "execution_count": 5,
   "metadata": {},
   "outputs": [
    {
     "data": {
      "text/plain": [
       "0     True\n",
       "1    False\n",
       "2     True\n",
       "dtype: bool"
      ]
     },
     "execution_count": 5,
     "metadata": {},
     "output_type": "execute_result"
    }
   ],
   "source": [
    "#boolean series\n",
    "Bool_series=[True,False,True,False,True,False,True,False]\n",
    "Series3=pd.Series(Bool_series)\n",
    "Series3.head(3)"
   ]
  },
  {
   "cell_type": "code",
   "execution_count": 6,
   "metadata": {},
   "outputs": [
    {
     "data": {
      "text/plain": [
       "0    34.00\n",
       "1    56.40\n",
       "2    65.43\n",
       "3    66.33\n",
       "dtype: float64"
      ]
     },
     "execution_count": 6,
     "metadata": {},
     "output_type": "execute_result"
    }
   ],
   "source": [
    "#float series\n",
    "floats=[34. , 56.4 , 65.43 , 66.33]\n",
    "series4=pd.Series(floats)\n",
    "series4"
   ]
  },
  {
   "cell_type": "markdown",
   "metadata": {},
   "source": [
    "# Arithemetic Opertors"
   ]
  },
  {
   "cell_type": "code",
   "execution_count": 7,
   "metadata": {},
   "outputs": [
    {
     "name": "stdout",
     "output_type": "stream",
     "text": [
      "Addition\n",
      "\n",
      "0     68.00\n",
      "1    112.80\n",
      "2    130.86\n",
      "3    132.66\n",
      "dtype: float64\n",
      "Subtraction\n",
      "\n",
      "0    0.0\n",
      "1    0.0\n",
      "2    0.0\n",
      "3    0.0\n",
      "dtype: float64\n",
      "Multiplication\n",
      "\n",
      "0    1156.0000\n",
      "1    3180.9600\n",
      "2    4281.0849\n",
      "3    4399.6689\n",
      "dtype: float64\n",
      "Subtraction\n",
      "\n",
      "0    1.0\n",
      "1    1.0\n",
      "2    1.0\n",
      "3    1.0\n",
      "dtype: float64\n"
     ]
    }
   ],
   "source": [
    "print(\"Addition\\n\")\n",
    "print(series4+series4)\n",
    "\n",
    "print(\"Subtraction\\n\")\n",
    "print(series4-series4)\n",
    "\n",
    "print(\"Multiplication\\n\")\n",
    "print(series4*series4)\n",
    "\n",
    "print(\"Subtraction\\n\")\n",
    "print(series4/series4)\n"
   ]
  },
  {
   "cell_type": "markdown",
   "metadata": {},
   "source": [
    "# Attributes in Series"
   ]
  },
  {
   "cell_type": "code",
   "execution_count": 8,
   "metadata": {},
   "outputs": [
    {
     "data": {
      "text/plain": [
       "0                 Handsome\n",
       "1               Kind Heart\n",
       "2    Great toungue Twister\n",
       "3                    Young\n",
       "dtype: object"
      ]
     },
     "execution_count": 8,
     "metadata": {},
     "output_type": "execute_result"
    }
   ],
   "source": [
    "Men_nature=[\"Handsome\",'Kind Heart','Great toungue Twister','Young']\n",
    "s1=pd.Series(Men_nature)\n",
    "s1"
   ]
  },
  {
   "cell_type": "code",
   "execution_count": 9,
   "metadata": {},
   "outputs": [
    {
     "data": {
      "text/plain": [
       "0    34.00\n",
       "1    56.40\n",
       "2    65.43\n",
       "3    66.33\n",
       "dtype: float64"
      ]
     },
     "execution_count": 9,
     "metadata": {},
     "output_type": "execute_result"
    }
   ],
   "source": [
    "series4"
   ]
  },
  {
   "cell_type": "code",
   "execution_count": 10,
   "metadata": {},
   "outputs": [
    {
     "name": "stdout",
     "output_type": "stream",
     "text": [
      "222.16000000000003\n",
      "55.540000000000006\n",
      "8322330.115440001\n"
     ]
    }
   ],
   "source": [
    "#methods\n",
    "print(series4.sum())\n",
    "print(series4.mean())\n",
    "print(series4.product())\n",
    "\n",
    "\n"
   ]
  },
  {
   "cell_type": "code",
   "execution_count": 11,
   "metadata": {},
   "outputs": [
    {
     "data": {
      "text/plain": [
       "0    0\n",
       "1    1\n",
       "2    2\n",
       "3    3\n",
       "4    4\n",
       "5    5\n",
       "6    6\n",
       "7    7\n",
       "8    8\n",
       "9    9\n",
       "dtype: int32"
      ]
     },
     "execution_count": 11,
     "metadata": {},
     "output_type": "execute_result"
    }
   ],
   "source": [
    "a=np.arange(10)\n",
    "index=np.arange(10)\n",
    "\n",
    "pd.Series(a,index=index)"
   ]
  },
  {
   "cell_type": "code",
   "execution_count": 12,
   "metadata": {},
   "outputs": [
    {
     "data": {
      "text/plain": [
       "mon          Mango\n",
       "Tues         Apple\n",
       "Thru    Pine Apple\n",
       "dtype: object"
      ]
     },
     "execution_count": 12,
     "metadata": {},
     "output_type": "execute_result"
    }
   ],
   "source": [
    "index=['mon','Tues','Thru']\n",
    "fruits=['Mango','Apple','Pine Apple']\n",
    "# pd.Series(fruits,index)\n",
    "pd.Series(fruits,index=index)"
   ]
  },
  {
   "cell_type": "raw",
   "metadata": {},
   "source": []
  },
  {
   "cell_type": "code",
   "execution_count": null,
   "metadata": {},
   "outputs": [],
   "source": []
  },
  {
   "cell_type": "code",
   "execution_count": null,
   "metadata": {},
   "outputs": [],
   "source": []
  },
  {
   "cell_type": "code",
   "execution_count": null,
   "metadata": {},
   "outputs": [],
   "source": []
  },
  {
   "cell_type": "code",
   "execution_count": null,
   "metadata": {},
   "outputs": [],
   "source": []
  },
  {
   "cell_type": "code",
   "execution_count": null,
   "metadata": {},
   "outputs": [],
   "source": []
  },
  {
   "cell_type": "code",
   "execution_count": null,
   "metadata": {},
   "outputs": [],
   "source": []
  }
 ],
 "metadata": {
  "kernelspec": {
   "display_name": "Python 3",
   "language": "python",
   "name": "python3"
  },
  "language_info": {
   "codemirror_mode": {
    "name": "ipython",
    "version": 3
   },
   "file_extension": ".py",
   "mimetype": "text/x-python",
   "name": "python",
   "nbconvert_exporter": "python",
   "pygments_lexer": "ipython3",
   "version": "3.7.4"
  }
 },
 "nbformat": 4,
 "nbformat_minor": 2
}
